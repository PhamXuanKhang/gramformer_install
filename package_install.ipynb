{
 "cells": [
  {
   "cell_type": "code",
   "execution_count": null,
   "metadata": {},
   "outputs": [],
   "source": [
    "#Cài các thư viện cần dùng\n",
    "!pip install git+https://github.com/PrithivirajDamodaran/Gramformer.git\n",
    "!pip install nltk\n",
    "!pip install dill\n",
    "!pip install torch torchvision torchaudio"
   ]
  },
  {
   "cell_type": "code",
   "execution_count": null,
   "metadata": {},
   "outputs": [],
   "source": [
    "#Chạy đoạn code nếu gặp lỗi: Can't find model 'en_core_web_sm'\n",
    "!python -m spacy download en_core_web_sm"
   ]
  },
  {
   "cell_type": "code",
   "execution_count": null,
   "metadata": {},
   "outputs": [],
   "source": [
    "#Đoạn code để tạo model và lưu vào file gf.pth\n",
    "\n",
    "from gramformer import Gramformer\n",
    "import dill\n",
    "\n",
    "gf = Gramformer(models=1, use_gpu=False) #load model\n",
    "\n",
    "with open('gf.pth', 'wb') as f:\n",
    "    dill.dump(gf, f) #save model"
   ]
  }
 ],
 "metadata": {
  "kernelspec": {
   "display_name": "Python 3",
   "language": "python",
   "name": "python3"
  },
  "language_info": {
   "codemirror_mode": {
    "name": "ipython",
    "version": 3
   },
   "file_extension": ".py",
   "mimetype": "text/x-python",
   "name": "python",
   "nbconvert_exporter": "python",
   "pygments_lexer": "ipython3",
   "version": "3.12.2"
  }
 },
 "nbformat": 4,
 "nbformat_minor": 2
}
